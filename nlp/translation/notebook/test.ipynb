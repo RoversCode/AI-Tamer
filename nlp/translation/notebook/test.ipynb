{
 "cells": [
  {
   "cell_type": "code",
   "execution_count": 4,
   "metadata": {},
   "outputs": [],
   "source": [
    "import torch\n",
    "import torch.nn as nn\n",
    "import torch.nn.functional as F"
   ]
  },
  {
   "cell_type": "code",
   "execution_count": null,
   "metadata": {},
   "outputs": [],
   "source": [
    "output = []\n",
    "\n",
    "for i in range(3):\n",
    "    tensor = torch.randn((3,2))\n",
    "    output.append(tensor)\n",
    "print(output)\n",
    "x = torch.concat(output,dim=0)\n",
    "print(x)\n",
    "print(x.shape)"
   ]
  },
  {
   "cell_type": "code",
   "execution_count": 2,
   "metadata": {},
   "outputs": [
    {
     "data": {
      "text/plain": [
       "tensor(0.2684)"
      ]
     },
     "execution_count": 2,
     "metadata": {},
     "output_type": "execute_result"
    }
   ],
   "source": [
    "nllloss = nn.NLLLoss()\n",
    "predict = torch.Tensor([[2, 3, 1],\n",
    "                        [3, 7, 9]])\n",
    "predict = torch.log(torch.softmax(predict, dim=-1))\n",
    "label = torch.tensor([1, 2])\n",
    "nllloss(predict, label)"
   ]
  },
  {
   "cell_type": "code",
   "execution_count": 5,
   "metadata": {},
   "outputs": [
    {
     "name": "stderr",
     "output_type": "stream",
     "text": [
      "C:\\Users\\SeungHee\\AppData\\Local\\Temp\\ipykernel_714856\\3929644725.py:3: UserWarning: Implicit dimension choice for log_softmax has been deprecated. Change the call to include dim=X as an argument.\n",
      "  F.log_softmax(output)\n"
     ]
    },
    {
     "data": {
      "text/plain": [
       "tensor([[-4.4225, -1.9412, -3.6931, -2.6284, -2.7980, -2.2155, -2.4704, -2.0666,\n",
       "         -2.6613, -1.2163]])"
      ]
     },
     "execution_count": 5,
     "metadata": {},
     "output_type": "execute_result"
    }
   ],
   "source": [
    "torch.softmax(predict, dim=-1)\n",
    "output = torch.randn((1,10))\n",
    "\n",
    "F.log_softmax(output)"
   ]
  }
 ],
 "metadata": {
  "kernelspec": {
   "display_name": "torch_cuda118",
   "language": "python",
   "name": "python3"
  },
  "language_info": {
   "codemirror_mode": {
    "name": "ipython",
    "version": 3
   },
   "file_extension": ".py",
   "mimetype": "text/x-python",
   "name": "python",
   "nbconvert_exporter": "python",
   "pygments_lexer": "ipython3",
   "version": "3.8.16"
  },
  "orig_nbformat": 4
 },
 "nbformat": 4,
 "nbformat_minor": 2
}
